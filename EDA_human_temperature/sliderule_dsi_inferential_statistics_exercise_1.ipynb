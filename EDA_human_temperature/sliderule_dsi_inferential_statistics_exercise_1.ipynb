{
 "cells": [
  {
   "cell_type": "markdown",
   "metadata": {},
   "source": [
    "# What is the True Normal Human Body Temperature? \n",
    "\n",
    "#### Background\n",
    "\n",
    "The mean normal body temperature was held to be 37$^{\\circ}$C or 98.6$^{\\circ}$F for more than 120 years since it was first conceptualized and reported by Carl Wunderlich in a famous 1868 book. But, is this value statistically correct?"
   ]
  },
  {
   "cell_type": "markdown",
   "metadata": {},
   "source": [
    "<h3>Exercises</h3>\n",
    "\n",
    "<p>In this exercise, you will analyze a dataset of human body temperatures and employ the concepts of hypothesis testing, confidence intervals, and statistical significance.</p>\n",
    "\n",
    "<p>Answer the following questions <b>in this notebook below and submit to your Github account</b>.</p> \n",
    "\n",
    "<ol>\n",
    "<li>  Is the distribution of body temperatures normal? \n",
    "    <ul>\n",
    "    <li> Although this is not a requirement for the Central Limit Theorem to hold (read the introduction on Wikipedia's page about the CLT carefully: https://en.wikipedia.org/wiki/Central_limit_theorem), it gives us some peace of mind that the population may also be normally distributed if we assume that this sample is representative of the population.\n",
    "    <li> Think about the way you're going to check for the normality of the distribution. Graphical methods are usually used first, but there are also other ways: https://en.wikipedia.org/wiki/Normality_test\n",
    "    </ul>\n",
    "<li>  Is the sample size large? Are the observations independent?\n",
    "    <ul>\n",
    "    <li> Remember that this is a condition for the Central Limit Theorem, and hence the statistical tests we are using, to apply.\n",
    "    </ul>\n",
    "<li>  Is the true population mean really 98.6 degrees F?\n",
    "    <ul>\n",
    "    <li> First, try a bootstrap hypothesis test.\n",
    "    <li> Now, let's try frequentist statistical testing. Would you use a one-sample or two-sample test? Why?\n",
    "    <li> In this situation, is it appropriate to use the $t$ or $z$ statistic? \n",
    "    <li> Now try using the other test. How is the result be different? Why?\n",
    "    </ul>\n",
    "<li>  Draw a small sample of size 10 from the data and repeat both frequentist tests. \n",
    "    <ul>\n",
    "    <li> Which one is the correct one to use? \n",
    "    <li> What do you notice? What does this tell you about the difference in application of the $t$ and $z$ statistic?\n",
    "    </ul>\n",
    "<li>  At what temperature should we consider someone's temperature to be \"abnormal\"?\n",
    "    <ul>\n",
    "    <li> As in the previous example, try calculating everything using the boostrap approach, as well as the frequentist approach.\n",
    "    <li> Start by computing the margin of error and confidence interval. When calculating the confidence interval, keep in mind that you should use the appropriate formula for one draw, and not N draws.\n",
    "    </ul>\n",
    "<li>  Is there a significant difference between males and females in normal temperature?\n",
    "    <ul>\n",
    "    <li> What testing approach did you use and why?\n",
    "    <li> Write a story with your conclusion in the context of the original problem.\n",
    "    </ul>\n",
    "</ol>\n",
    "\n",
    "You can include written notes in notebook cells using Markdown: \n",
    "   - In the control panel at the top, choose Cell > Cell Type > Markdown\n",
    "   - Markdown syntax: http://nestacms.com/docs/creating-content/markdown-cheat-sheet\n",
    "\n",
    "#### Resources\n",
    "\n",
    "+ Information and data sources: http://www.amstat.org/publications/jse/datasets/normtemp.txt, http://www.amstat.org/publications/jse/jse_data_archive.htm\n",
    "+ Markdown syntax: http://nestacms.com/docs/creating-content/markdown-cheat-sheet\n",
    "\n",
    "****"
   ]
  },
  {
   "cell_type": "code",
   "execution_count": 1,
   "metadata": {
    "collapsed": true
   },
   "outputs": [],
   "source": [
    "import pandas as pd\n",
    "\n",
    "\n",
    "df = pd.read_csv('data/human_body_temperature.csv')"
   ]
  },
  {
   "cell_type": "code",
   "execution_count": 2,
   "metadata": {
    "collapsed": true
   },
   "outputs": [],
   "source": [
    "# Your work here.\n",
    "import numpy as np\n",
    "import matplotlib.pyplot as plt\n",
    "import seaborn as sns\n",
    "import matplotlib.style as style\n",
    "%matplotlib inline\n",
    "style.use('fivethirtyeight')\n"
   ]
  },
  {
   "cell_type": "markdown",
   "metadata": {},
   "source": [
    "## 1) Is the distribution of body temperatures normal?\n",
    "\n",
    "### First, let's examine the data"
   ]
  },
  {
   "cell_type": "code",
   "execution_count": 3,
   "metadata": {},
   "outputs": [
    {
     "name": "stdout",
     "output_type": "stream",
     "text": [
      "<class 'pandas.core.frame.DataFrame'>\n",
      "RangeIndex: 130 entries, 0 to 129\n",
      "Data columns (total 3 columns):\n",
      "temperature    130 non-null float64\n",
      "gender         130 non-null object\n",
      "heart_rate     130 non-null float64\n",
      "dtypes: float64(2), object(1)\n",
      "memory usage: 3.1+ KB\n",
      "None\n",
      "       temperature  heart_rate\n",
      "count   130.000000  130.000000\n",
      "mean     98.249231   73.761538\n",
      "std       0.733183    7.062077\n",
      "min      96.300000   57.000000\n",
      "25%      97.800000   69.000000\n",
      "50%      98.300000   74.000000\n",
      "75%      98.700000   79.000000\n",
      "max     100.800000   89.000000\n"
     ]
    },
    {
     "data": {
      "text/html": [
       "<div>\n",
       "<style>\n",
       "    .dataframe thead tr:only-child th {\n",
       "        text-align: right;\n",
       "    }\n",
       "\n",
       "    .dataframe thead th {\n",
       "        text-align: left;\n",
       "    }\n",
       "\n",
       "    .dataframe tbody tr th {\n",
       "        vertical-align: top;\n",
       "    }\n",
       "</style>\n",
       "<table border=\"1\" class=\"dataframe\">\n",
       "  <thead>\n",
       "    <tr style=\"text-align: right;\">\n",
       "      <th></th>\n",
       "      <th>temperature</th>\n",
       "      <th>gender</th>\n",
       "      <th>heart_rate</th>\n",
       "    </tr>\n",
       "  </thead>\n",
       "  <tbody>\n",
       "    <tr>\n",
       "      <th>0</th>\n",
       "      <td>99.3</td>\n",
       "      <td>F</td>\n",
       "      <td>68.0</td>\n",
       "    </tr>\n",
       "    <tr>\n",
       "      <th>1</th>\n",
       "      <td>98.4</td>\n",
       "      <td>F</td>\n",
       "      <td>81.0</td>\n",
       "    </tr>\n",
       "    <tr>\n",
       "      <th>2</th>\n",
       "      <td>97.8</td>\n",
       "      <td>M</td>\n",
       "      <td>73.0</td>\n",
       "    </tr>\n",
       "    <tr>\n",
       "      <th>3</th>\n",
       "      <td>99.2</td>\n",
       "      <td>F</td>\n",
       "      <td>66.0</td>\n",
       "    </tr>\n",
       "    <tr>\n",
       "      <th>4</th>\n",
       "      <td>98.0</td>\n",
       "      <td>F</td>\n",
       "      <td>73.0</td>\n",
       "    </tr>\n",
       "    <tr>\n",
       "      <th>5</th>\n",
       "      <td>99.2</td>\n",
       "      <td>M</td>\n",
       "      <td>83.0</td>\n",
       "    </tr>\n",
       "    <tr>\n",
       "      <th>6</th>\n",
       "      <td>98.0</td>\n",
       "      <td>M</td>\n",
       "      <td>71.0</td>\n",
       "    </tr>\n",
       "    <tr>\n",
       "      <th>7</th>\n",
       "      <td>98.8</td>\n",
       "      <td>M</td>\n",
       "      <td>78.0</td>\n",
       "    </tr>\n",
       "    <tr>\n",
       "      <th>8</th>\n",
       "      <td>98.4</td>\n",
       "      <td>F</td>\n",
       "      <td>84.0</td>\n",
       "    </tr>\n",
       "    <tr>\n",
       "      <th>9</th>\n",
       "      <td>98.6</td>\n",
       "      <td>F</td>\n",
       "      <td>86.0</td>\n",
       "    </tr>\n",
       "  </tbody>\n",
       "</table>\n",
       "</div>"
      ],
      "text/plain": [
       "   temperature gender  heart_rate\n",
       "0         99.3      F        68.0\n",
       "1         98.4      F        81.0\n",
       "2         97.8      M        73.0\n",
       "3         99.2      F        66.0\n",
       "4         98.0      F        73.0\n",
       "5         99.2      M        83.0\n",
       "6         98.0      M        71.0\n",
       "7         98.8      M        78.0\n",
       "8         98.4      F        84.0\n",
       "9         98.6      F        86.0"
      ]
     },
     "execution_count": 3,
     "metadata": {},
     "output_type": "execute_result"
    }
   ],
   "source": [
    "print(df.info())\n",
    "print(df.describe())\n",
    "df.head(10)"
   ]
  },
  {
   "cell_type": "markdown",
   "metadata": {},
   "source": [
    "### Plot a Histogram\n",
    "#### There are only 130 observations, and the range of body temperatures go from 96.3 degrees to 100.8 with an average value of 98.25 degrees. In order to see how these values are distributed, let's plot a histogram of the temperature values."
   ]
  },
  {
   "cell_type": "code",
   "execution_count": 4,
   "metadata": {
    "scrolled": true
   },
   "outputs": [
    {
     "data": {
      "image/png": "[encoded data removed]",
      "text/plain": [
       "<matplotlib.figure.Figure at 0xc1c9cf8>"
      ]
     },
     "metadata": {},
     "output_type": "display_data"
    }
   ],
   "source": [
    "temp = df.temperature\n",
    "\n",
    "#bin the historgram by 1/5th of a degree, to avoiding over- and under-binning\n",
    "plt.hist(temp,bins=np.arange(int(temp.min()-1),int(temp.max()+1),.2))\n",
    "plt.show()"
   ]
  },
  {
   "cell_type": "markdown",
   "metadata": {},
   "source": [
    "### Plot the actual CDF and Theoretical CDF\n",
    "#### The histogram isn't extremely helpful in identifying the normaly of the curve. Most of the values are concentrated in the center and spred out towards the edges, however we will need more decisive evidence. Let's bring in the ecdf() function from the datacamp exercises to compare the CDF's of an ideal normal curve and the temperature data."
   ]
  },
  {
   "cell_type": "code",
   "execution_count": 5,
   "metadata": {
    "collapsed": true
   },
   "outputs": [],
   "source": [
    "# datacamp ecdf function\n",
    "def ecdf(data):\n",
    "    \"\"\"Compute ECDF for a one-dimensional array of measurements.\"\"\"\n",
    "\n",
    "    # Number of data points: n\n",
    "    n = len(data)\n",
    "\n",
    "    # x-data for the ECDF: x\n",
    "    x = np.sort(data)\n",
    "\n",
    "    # y-data for the ECDF: y\n",
    "    y = np.arange(1, n+1) / n\n",
    "\n",
    "    return x, y"
   ]
  },
  {
   "cell_type": "code",
   "execution_count": 6,
   "metadata": {
    "collapsed": true
   },
   "outputs": [],
   "source": [
    "# calculate the mean and standard deviation of the data and draw a normally distributed sample of the data. \n",
    "mean_temp = np.mean(temp)\n",
    "std_temp = np.std(temp)\n",
    "theor_temp = np.random.normal(mean_temp, std_temp, size=10000)\n",
    "x,y = (ecdf(temp))\n",
    "x_th, y_th =ecdf(theor_temp)"
   ]
  },
  {
   "cell_type": "code",
   "execution_count": 7,
   "metadata": {
    "scrolled": false
   },
   "outputs": [
    {
     "data": {
      "image/png": "[encoded data removed]",
      "text/plain": [
       "<matplotlib.figure.Figure at 0xc6cbc88>"
      ]
     },
     "metadata": {},
     "output_type": "display_data"
    }
   ],
   "source": [
    "#plot the real and theoretical CDF's\n",
    "plt.plot(x_th,y_th)\n",
    "plt.plot(x,y, marker='.')\n",
    "plt.xlabel('Body Temperature')\n",
    "plt.ylabel('CDF')\n",
    "\n",
    "plt.show()"
   ]
  },
  {
   "cell_type": "markdown",
   "metadata": {},
   "source": [
    "#### As you can see, the actual CDF aligns quite well with the theoretical sample. This is pretty solid evidence that the data is normally distributed.\n",
    "\n",
    "### Check 68-95-99.7 rule\n",
    "#### Perform a quick calculation to see the percentage of values that fall withing 1,2, and 3 standards of deviation. "
   ]
  },
  {
   "cell_type": "code",
   "execution_count": 8,
   "metadata": {},
   "outputs": [
    {
     "name": "stdout",
     "output_type": "stream",
     "text": [
      "Number of values more than 3 std away from mean: 1\n"
     ]
    },
    {
     "data": {
      "text/plain": [
       "(0.6923076923076923, 0.9461538461538461, 0.9923076923076923)"
      ]
     },
     "execution_count": 8,
     "metadata": {},
     "output_type": "execute_result"
    }
   ],
   "source": [
    "std1_sum = len([t for t in temp if ((t < mean_temp + std_temp) & (t > mean_temp - std_temp))])\n",
    "std2_sum = len([t for t in temp if ((t < mean_temp + 2*std_temp) & (t > mean_temp - 2*std_temp))])\n",
    "std3_sum = len([t for t in temp if ((t < mean_temp + 3*std_temp) & (t > mean_temp - 3*std_temp))])\n",
    "(print('Number of values more than 3 std away from mean:',(len(temp) -std3_sum)))\n",
    "pct_std1 = std1_sum / len(temp)\n",
    "pct_std2 = std2_sum / len(temp)\n",
    "pct_std3 = std3_sum / len(temp)\n",
    "(pct_std1, pct_std2, pct_std3)"
   ]
  },
  {
   "cell_type": "markdown",
   "metadata": {},
   "source": [
    "### Body Temperature is Normally Distributed\n",
    "#### These results aren't exactly 68-95-99.7, however, they are  fairly close. Having more data would definitely help, but it is reasonable to say that the data we do have is normally distributed.\n"
   ]
  },
  {
   "cell_type": "markdown",
   "metadata": {},
   "source": [
    "## 2) Is the sample size large? Are the observations independent?"
   ]
  },
  {
   "cell_type": "markdown",
   "metadata": {},
   "source": [
    "The sample size is definitely not large. 130 observations is not enough to conclude anything with certainty about populations containing millions of people let alone the world population.\n",
    "\n",
    "However, the obervations do seem to be independen. Each value is obtained from a different person that will have a different body temperature. One persons body temperature does not affect the next persons. Outside factors such as illness might, but that doesn't factor in to the independence from other people's measurements."
   ]
  },
  {
   "cell_type": "markdown",
   "metadata": {},
   "source": [
    "## 3) Is the true population mean really 98.6 degrees F?\n",
    "\n",
    "### Bootstrap Hypothesis Test"
   ]
  },
  {
   "cell_type": "code",
   "execution_count": 9,
   "metadata": {
    "collapsed": true
   },
   "outputs": [],
   "source": [
    "# create bootstrap replicate function\n",
    "def bootstrap_replicate_1d(data, func):\n",
    "    '''Generat bootstrap replicate of 1 dimensional data'''\n",
    "    return func(np.random.choice(data, size=len(data)))\n",
    "\n",
    "# datacamp draw bootstrap reps function\n",
    "def draw_bs_reps(data, func, size=1):\n",
    "    \"\"\"Draw bootstrap replicates.\"\"\"\n",
    "\n",
    "    # Initialize array of replicates: bs_replicates\n",
    "    bs_replicates = np.empty(size)\n",
    "\n",
    "    # Generate replicates\n",
    "    for i in range(size):\n",
    "        bs_replicates[i] = bootstrap_replicate_1d(data,func)\n",
    "\n",
    "    return bs_replicates\n",
    "\n",
    "# difference of means function\n",
    "def diff_of_means(data_1, data_2):\n",
    "    \"\"\"Difference in means of two arrays.\"\"\"\n",
    "\n",
    "    # The difference of means of data_1, data_2: diff\n",
    "    diff = np.mean(data_1) - np.mean(data_2)\n",
    "\n",
    "    return diff"
   ]
  },
  {
   "cell_type": "code",
   "execution_count": 10,
   "metadata": {},
   "outputs": [
    {
     "data": {
      "image/png": "[encoded data removed]",
      "text/plain": [
       "<matplotlib.figure.Figure at 0x9b2a390>"
      ]
     },
     "metadata": {},
     "output_type": "display_data"
    }
   ],
   "source": [
    "test_mean = 98.6\n",
    "temp_shift = temp - mean_temp + test_mean\n",
    "#plot the real and theoretical CDF's\n",
    "x,y = ecdf(temp)\n",
    "x_sh,y_sh = ecdf(temp_shift)\n",
    "\n",
    "plt.figure(figsize = (12,8))\n",
    "plt.plot(x_sh,y_sh)\n",
    "plt.plot(x,y, marker='.', linestyle = None)\n",
    "plt.xlabel('Body Temperature')\n",
    "plt.ylabel('CDF')\n",
    "plt.text(x= 99, y = .5, s='Shifted\\nmean = 98.6', color = 'blue', fontsize = 20)\n",
    "plt.text(x= 97, y = .5, s='Original\\nmean ='+str(round(mean_temp,2)), color = 'red', fontsize = 20)\n",
    "\n",
    "\n",
    "plt.show()\n"
   ]
  },
  {
   "cell_type": "code",
   "execution_count": 11,
   "metadata": {},
   "outputs": [
    {
     "data": {
      "text/plain": [
       "-0.35076923076921673"
      ]
     },
     "execution_count": 11,
     "metadata": {},
     "output_type": "execute_result"
    }
   ],
   "source": [
    "def diff_from_test(data):\n",
    "    return np.mean(data) - 98.6\n",
    "diff_obs = diff_from_test(temp)\n",
    "diff_obs\n"
   ]
  },
  {
   "cell_type": "code",
   "execution_count": 12,
   "metadata": {},
   "outputs": [
    {
     "name": "stdout",
     "output_type": "stream",
     "text": [
      "p value =  0.0\n"
     ]
    }
   ],
   "source": [
    "bs_temps = draw_bs_reps(temp_shift, diff_from_test, 10000)\n",
    "\n",
    "p = np.sum(bs_temps <= diff_obs) / 10000\n",
    "print('p value = ',p)"
   ]
  },
  {
   "cell_type": "markdown",
   "metadata": {},
   "source": [
    "### Frequentist\n",
    "#### Would you use a one-sample or two-sample test? Why? \n",
    "   - For our situation we should use a one-sample test because we are comparing a single set of data to a sample mean value. If we had to separate samples of data, we would use a two-sample approach.\n",
    "   \n",
    "#### In this situation, is it appropriate to use the  t-  or  z-  statistic?\n",
    "   - We should use a z-statistic because our sample size is greater than 30, so the standard deviation or our sample and the sample std are pretty close. Some people use the t-test for whenever the population std is unknown, but for our purposes lets start off with the z-stat"
   ]
  },
  {
   "cell_type": "code",
   "execution_count": 13,
   "metadata": {},
   "outputs": [
    {
     "name": "stdout",
     "output_type": "stream",
     "text": [
      "z-statistic = -5.475925202078116     p-value: 2.16514104867e-07\n"
     ]
    }
   ],
   "source": [
    "#create z-test function\n",
    "def ztest(data,popmean):\n",
    "    \"\"\"Calculate z statistic using the std of the sample\"\"\"\n",
    "    stat = (np.mean(data) - popmean) / (np.std(data)/len(data)**.5)\n",
    "    p = 2*(1-st.t.cdf(abs(stat),len(data)))\n",
    "    return stat, p\n",
    "\n",
    "from scipy import stats as st\n",
    "z = ztest(temp,98.6)\n",
    "print('z-statistic =',z[0], '    p-value:',z[1])\n"
   ]
  },
  {
   "cell_type": "markdown",
   "metadata": {},
   "source": [
    "#### Now try using the other test. How is the result be different? Why?\n"
   ]
  },
  {
   "cell_type": "code",
   "execution_count": 14,
   "metadata": {},
   "outputs": [
    {
     "name": "stdout",
     "output_type": "stream",
     "text": [
      "Manually calculated t statistic: -5.454823292364079\n",
      "scipy t statistic: Ttest_1sampResult(statistic=-5.4548232923645195, pvalue=2.4106320415561276e-07)\n"
     ]
    }
   ],
   "source": [
    "# manual \n",
    "#first obtain the sample std by setting ddof in np.std to 1\n",
    "s = np.std(temp, ddof = 1)\n",
    "t = (mean_temp - 98.6) / (s/len(temp)**.5)\n",
    "print('Manually calculated t statistic:',t)\n",
    "\n",
    "# using scipy\n",
    "t = st.ttest_1samp(temp,98.6)\n",
    "print('scipy t statistic:',t)\n"
   ]
  },
  {
   "cell_type": "markdown",
   "metadata": {},
   "source": [
    "Our t-stat is fairly close to the z-statistic we calculated in the previous step. However, it is slightly smaller. This is dur to the difference in the standard deviation of our data and the sample standard deviation of the data. The actual standard deviation of a sample of data from the population tends to overestimate teh actual standard of deviation. The z-stat uses the standard deviation of the sample while the t test uses the sample std. Hence the slightly smaller value."
   ]
  },
  {
   "cell_type": "markdown",
   "metadata": {},
   "source": [
    "## 4) Draw a small sample of size 10 from the data and repeat both frequentist tests."
   ]
  },
  {
   "cell_type": "code",
   "execution_count": 15,
   "metadata": {},
   "outputs": [
    {
     "name": "stdout",
     "output_type": "stream",
     "text": [
      "z-statistic of the sample: -2.07215477416    p-value: 0.0650483041337\n",
      "t-statistic of the sample: -1.96581862523    p-value: 0.0808842363197\n"
     ]
    }
   ],
   "source": [
    "np.random.seed(1)\n",
    "sample_10 = np.random.choice(temp, size = 10, replace = False)\n",
    "\n",
    "z_s10 = ztest(sample_10,98.6)\n",
    "print('z-statistic of the sample:',z_s10[0], '   p-value:',z_s10[1])\n",
    "\n",
    "t_s10 = st.ttest_1samp(sample_10,98.6)\n",
    "print('t-statistic of the sample:',t_s10[0],\"   p-value:\",t_s10[1])"
   ]
  },
  {
   "cell_type": "markdown",
   "metadata": {},
   "source": [
    "#### Which one is the correct one to use?\n",
    "- Since our sample size is now less than 30, we should be using the t-test. The reasoning is the same as the as above, the difference in the sample std of the sample and the actual std of the sample is larger the smaller the sample.\n",
    "\n",
    "#### What do you notice? What does this tell you about the difference in application of the  t-  and  z-  statistic?\n",
    "- The difference in value when the sample was 130 was almost negligble between the 2 tests. However, there is a much more significant difference between the 2 test. The Z-test should really only be used when the standard deviation of the population is known. However, it is a good estimate when a sample size larger than 30 is taken. When the sample is small, the T-test should be used."
   ]
  },
  {
   "cell_type": "markdown",
   "metadata": {},
   "source": [
    "## 5) At what temperature should we consider someone's temperature to be \"abnormal\"?\n",
    "As in the previous example, try calculating everything using the boostrap approach, as well as the frequentist approach.\n",
    "\n",
    "Start by computing the margin of error and confidence interval. When calculating the confidence interval, keep in mind that you should use the appropriate formula for one draw, and not N draws.\n",
    "\n",
    "* First, we need to define what we mean by abnormal. For this question, I will use the values at which 95% percent of the data falls in between"
   ]
  },
  {
   "cell_type": "code",
   "execution_count": 29,
   "metadata": {},
   "outputs": [
    {
     "name": "stdout",
     "output_type": "stream",
     "text": [
      "Confidence Interval: [ 96.7225  99.4775]\n",
      "zscore at 95% confidence 1.95996398454\n",
      "Margin of Error for the sample: 0.125548657774\n"
     ]
    }
   ],
   "source": [
    "#obtain the 95% confidence interval for the data\n",
    "conf_int = np.percentile(temp,[2.5,97.5])\n",
    "z = st.norm.ppf(.975)\n",
    "margin_error = z*np.std(temp) / len(temp)**.5\n",
    "print('Confidence Interval:',conf_int)\n",
    "print('zscore at 95% confidence',z)\n",
    "print('Margin of Error for the sample:',margin_error)"
   ]
  },
  {
   "cell_type": "markdown",
   "metadata": {},
   "source": [
    "The average body temperatures of the population is estimated to be within .126 degrees of the average with 95% confidence.\n",
    "\n",
    "Abnormal temperatures would be anything that falls below 96.723 and above 99.478 degrees based on the data available. \n",
    "    "
   ]
  },
  {
   "cell_type": "markdown",
   "metadata": {
    "collapsed": true
   },
   "source": [
    "### Bootstrap Approach"
   ]
  },
  {
   "cell_type": "code",
   "execution_count": 30,
   "metadata": {
    "collapsed": true
   },
   "outputs": [],
   "source": [
    "# create bootstrap replicate function\n",
    "def bs_rep(data):\n",
    "    '''Generate bootstrap replicate of 1 dimensional data'''\n",
    "    return np.random.choice(data, size=len(data))\n",
    "\n",
    "# datacamp draw bootstrap reps function\n",
    "def bs_reps(data, size=1):\n",
    "    \"\"\"Draw bootstrap replicates.\"\"\"\n",
    "    #set different seed for each replicate to be able to replicate bootsrap data\n",
    "    \n",
    "    bs_replicates = [bs_rep(data) for x in range(size)]\n",
    "    return bs_replicates\n",
    "\n",
    "def bs_avg_func(bs_reps,func):\n",
    "    \"\"\"Take the average of the value of a 1 to 1 function ove the bootstrap replicates\"\"\"\n",
    "    return np.mean([func(rep) for rep in bs_reps])\n",
    "\n",
    "def bs_conf_int(bs_reps, conf_int):\n",
    "    \"\"\"Average confidence interval of a certain number of replicates.\"\"\"\n",
    "    \n",
    "    # Initialize array of the low and high end of the confidence interval\n",
    "    low = [np.percentile(rep,conf_int[0]) for rep in bs_reps]\n",
    "    high = [np.percentile(rep,conf_int[1]) for rep in bs_reps]\n",
    "\n",
    "    #return the average confidence interval of all the replicates\n",
    "    return np.mean(low), np.mean(high)\n"
   ]
  },
  {
   "cell_type": "code",
   "execution_count": 31,
   "metadata": {},
   "outputs": [
    {
     "name": "stdout",
     "output_type": "stream",
     "text": [
      "Bootstrap mean: 98.2489635385\n",
      "Bootstrap std: 0.72608527134\n",
      "Bootstrap 5% confidence interval: [ 98.12382692  98.37384615]\n",
      "Range for normal body temperatures: (96.765419500000007, 99.578380750000008)\n"
     ]
    }
   ],
   "source": [
    "np.random.seed(1)\n",
    "# draw 10000 bootstrap replicates\n",
    "bs_temp = bs_reps(temp,10000)\n",
    "\n",
    "# calculate the average value of the mean for the bootstrapped data\n",
    "bs_temp_mean = bs_avg_func(bs_temp, np.mean)\n",
    "\n",
    "# calculate the average standard deviation of the bs data\n",
    "bs_temp_std = bs_avg_func(bs_temp, np.std)\n",
    "\n",
    "# calculate the average 95% confidence interval of the bs data\n",
    "bs_temp_conf_int = np.percentile(draw_bs_reps(temp, np.mean, 10000), [2.5,97.5])\n",
    "\n",
    "# get range for 'normal' values\n",
    "normal = bs_conf_int(bs_temp, [2.5,97.5])\n",
    "\n",
    "print('Bootstrap mean:',bs_temp_mean)\n",
    "print('Bootstrap std:',bs_temp_std)\n",
    "print('Bootstrap 5% confidence interval:',bs_temp_conf_int)\n",
    "print('Range for normal body temperatures:',normal)"
   ]
  },
  {
   "cell_type": "code",
   "execution_count": 32,
   "metadata": {},
   "outputs": [
    {
     "name": "stdout",
     "output_type": "stream",
     "text": [
      "Margin of Error for the bootstrap sample: 0.124816506346\n"
     ]
    }
   ],
   "source": [
    "#obtain the 95% confidence interval for the data\n",
    "bs_margin_error = 1.96*(bs_temp_std) / len(temp)**.5\n",
    "print('Margin of Error for the bootstrap sample:',bs_margin_error)"
   ]
  },
  {
   "cell_type": "markdown",
   "metadata": {},
   "source": [
    "After the bootstrap test, the average body temperatures of the population is estimated to be \n",
    "within .124 degrees of the average with 95% confidence.\n",
    "\n",
    "Abnormal temperatures would be anything that falls below 96.765 and above 99.578 degrees based on the bootstrap data. "
   ]
  },
  {
   "cell_type": "markdown",
   "metadata": {},
   "source": [
    "## 6) Is there a significant difference between males and females in normal temperature?\n",
    "What testing approach did you use and why?\n",
    "Write a story with your conclusion in the context of the original problem."
   ]
  },
  {
   "cell_type": "markdown",
   "metadata": {},
   "source": [
    "### Two-Sample Bootstrap Hypothesis Test\n",
    "#### Null Hypothesis: The average body temperatures for men and women are equal"
   ]
  },
  {
   "cell_type": "code",
   "execution_count": 20,
   "metadata": {},
   "outputs": [
    {
     "name": "stdout",
     "output_type": "stream",
     "text": [
      "count    65.000000\n",
      "mean     98.104615\n",
      "std       0.698756\n",
      "min      96.300000\n",
      "25%      97.600000\n",
      "50%      98.100000\n",
      "75%      98.600000\n",
      "max      99.500000\n",
      "Name: temperature, dtype: float64\n",
      "count     65.000000\n",
      "mean      98.393846\n",
      "std        0.743488\n",
      "min       96.400000\n",
      "25%       98.000000\n",
      "50%       98.400000\n",
      "75%       98.800000\n",
      "max      100.800000\n",
      "Name: temperature, dtype: float64\n"
     ]
    }
   ],
   "source": [
    "#create male and female datasets\n",
    "male = df.temperature.loc[df.gender == 'M']\n",
    "female = df.temperature.loc[df.gender == 'F']\n",
    "\n",
    "print(male.describe())\n",
    "print(female.describe())\n",
    "\n"
   ]
  },
  {
   "cell_type": "code",
   "execution_count": 21,
   "metadata": {},
   "outputs": [
    {
     "name": "stdout",
     "output_type": "stream",
     "text": [
      "Difference of means between male and female: -0.289230769230727\n"
     ]
    }
   ],
   "source": [
    "#take the mean of all temperatures\n",
    "mean_temp = temp.mean()\n",
    "\n",
    "#find the difference of mean betwen the male and female observations\n",
    "diff_mean = diff_of_means(male,female)\n",
    "\n",
    "print('Difference of means between male and female:',diff_mean)"
   ]
  },
  {
   "cell_type": "code",
   "execution_count": 22,
   "metadata": {},
   "outputs": [
    {
     "name": "stdout",
     "output_type": "stream",
     "text": [
      "p-value = 0.0117\n"
     ]
    }
   ],
   "source": [
    "# shift the mmale and female data to the mean of the total\n",
    "male_shifted = male - male.mean() + mean_temp\n",
    "female_shifted = female - female.mean() + mean_temp\n",
    "\n",
    "# Compute 10,000 bootstrap replicates from shifted arrays\n",
    "bs_male = draw_bs_reps(male_shifted, np.mean, size=10000)\n",
    "bs_female = draw_bs_reps(female_shifted, np.mean, size=10000)\n",
    "\n",
    "# Get replicates of difference of means: bs_replicates\n",
    "bs_diff_mean = bs_male - bs_female\n",
    "\n",
    "# The p-value is fraction of the replicates that gave a more extreme difference than the original difference\n",
    "p = np.sum(bs_diff_mean <= diff_mean) / len(bs_diff_mean)\n",
    "print('p-value =', p)"
   ]
  },
  {
   "cell_type": "markdown",
   "metadata": {},
   "source": [
    "### Conclusion\n",
    "\n",
    "After performing a 2-sample bootstrap hypothesis test on the null hypothesis that male and female body tempertures are equal, the p-value we were left with was .011. This is a statistically significant result that goes against the null hypothesis. This means that the based on the sample data, the difference in mean of male and female body temperature is significant. "
   ]
  }
 ],
 "metadata": {
  "kernelspec": {
   "display_name": "Python 3",
   "language": "python",
   "name": "python3"
  },
  "language_info": {
   "codemirror_mode": {
    "name": "ipython",
    "version": 3
   },
   "file_extension": ".py",
   "mimetype": "text/x-python",
   "name": "python",
   "nbconvert_exporter": "python",
   "pygments_lexer": "ipython3",
   "version": "3.6.3"
  }
 },
 "nbformat": 4,
 "nbformat_minor": 1
}
